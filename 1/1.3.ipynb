{
 "cells": [
  {
   "cell_type": "markdown",
   "metadata": {},
   "source": [
    "## 1.3   The 2-body problem"
   ]
  },
  {
   "cell_type": "markdown",
   "metadata": {},
   "source": [
    "Now that we have a gen expression for the realtive motion of two bodies perturbed by other bodies it would be a simple matter to reduce it to an equation for only two bodies."
   ]
  },
  {
   "cell_type": "markdown",
   "metadata": {},
   "source": [
    "### 1.3.1 Simplifying Assumptions\n",
    "\n",
    "There are two assumptions we will make:\n",
    "1. The bodies are spherically symettric -> we can treat the bodies as if their masses were concentrated at their centers\n",
    "2. There are no external nor internal forces acting on the system -> only gravity between the two bodies"
   ]
  },
  {
   "cell_type": "markdown",
   "metadata": {},
   "source": [
    "### 1.3.2 The Equation of Relative Motion\n",
    "\n",
    "Before applying [Newton's Second law](1.1.ipynb#1.1.2.2-Second-Law) to determine the equation of relative motion, we need to find an inertial (unaccelerated and nonrotating) reference frame. Newton described this frame as fixed in absolute space, which \"in its own nature, without relation to anything external, remains always similar and immovable.\" This is kinda impossible, so for now let's carry on with our investigation of relative motion by assuming that we have found such an inertial reference frame.\n",
    "\n",
    "Consider the system of two bodies of mass $M$ and $m$. \n",
    "- Let $(X', Y', Z')$ be an inertial set of rectangular cartesian coordinates.\n",
    "- Let $(X, Y, Z)$ be a set of nonrotating coordinates parallel to $(X', Y', Z')$ and having an origin coincident with the body of mass $M$.\n",
    "- The position vectors of $M$ and $m$ with respect to $(X', Y', Z')$ are $\\textbf{r}_M$ and $\\textbf{r}_m$ respectively.\n",
    "- Let $\\textbf{r} = \\textbf{r}_m - \\textbf{r}_M$"
   ]
  },
  {
   "cell_type": "markdown",
   "metadata": {},
   "source": [
    "<img src=\"../img/1.3-1.svg\" alt=\"Figure 1.3-1\" width=\"800\"/>"
   ]
  },
  {
   "cell_type": "markdown",
   "metadata": {},
   "source": [
    "Now we can apply Newton's Laws in the inertial frame $(X', Y', Z')$ and obtain: \n",
    "\n",
    "$$m \\ddot{\\textbf{r}}_m = - \\frac{G M m}{r^2} \\hat{\\textbf{r}}$$\n",
    "\n",
    "$$M \\ddot{\\textbf{r}}_M = - \\frac{G M m}{r^2} \\hat{\\textbf{r}}$$\n",
    "\n",
    "These can be rewritten as:\n",
    "\n",
    "$$\\ddot{\\textbf{r}}_m = - \\frac{G M}{r^2} \\hat{\\textbf{r}}$$\n",
    "\n",
    "$$\\ddot{\\textbf{r}}_M = - \\frac{G m}{r^2} \\hat{\\textbf{r}}$$\n",
    "\n",
    "Subtracting these gives:\n",
    "\n",
    "$$ \\ddot{\\textbf{r}} = - \\frac{G (M + m)}{r^2} \\hat{\\textbf{r}} \\label{eq:1.3-3} \\tag{1.3-3} $$\n",
    "\n",
    "This is the __vector differential equation__ of the __relative motion__ for the __two-body problem__. Note that this is the same as equation [(1.2-17)](1.2.ipynb#mjx-eqn-eq%3A1.2-17) without perturbing effects and $\\textbf{r}_{12}$ replaced with $\\textbf{r}$.\n",
    "\n",
    "Since $(X, Y, Z)$ is nonrotating with respect to $(X', Y', Z')$, the magnitudes and directions of $\\textbf{r}$ and $\\ddot{\\textbf{r}}$ as measured in $(X, Y, Z)$ will be equal respectively to their magnitudes and directions as measured in $(X', Y', Z')$. Thus having postulated the existence of an inertial reference frame in order to derive equation $\\eqref{eq:1.3-3}$, we can now discard it and measure the relative position, velocity, and acceleration in a nonrotating, noninertial coordinate system such as $(X, Y, Z)$ with its origin in the central body, $M$.\n",
    "\n",
    "Since our efforts here wil be devoted to studying the motion of artifical satellites, ballistic missiles, or space probes orbiting about some planet or the sun, the mass of the orbiting body, $m$, will be much less than that of the central body, $M$.\n",
    "\n",
    "$$\\implies G(M+m) \\approx GM$$\n",
    "\n",
    "It's convenient to define a parameter, $\\mu$, called the _gravitational parameter_:\n",
    "\n",
    "$$\\mu \\equiv GM$$ \n",
    "\n",
    "Then $\\eqref{eq:1.3-3}$ becomes: \n",
    "\n",
    "$$ \\boxed{ \\ddot{\\textbf{r}} + \\frac{\\mu}{r^2} \\hat{\\textbf{r}} = 0} \\label{eq:1.3-4} \\tag{1.3-4}$$\n",
    "\n",
    "\n",
    "Equation $\\eqref{eq:1.3-4}$ is the two-body equation of motion that we will use from now on. Remember that the results obtained using it will be only as accurate as our two assumptions and the assumption that $M\\gg m$. "
   ]
  },
  {
   "cell_type": "code",
   "execution_count": null,
   "metadata": {},
   "outputs": [],
   "source": []
  }
 ],
 "metadata": {
  "kernelspec": {
   "display_name": "Python 3.8.2 64-bit ('fundamentals-of-astrodynamics': conda)",
   "language": "python",
   "name": "python38264bitfundamentalsofastrodynamicsconda0c0c3b764d05496086f35ca919010813"
  },
  "language_info": {
   "codemirror_mode": {
    "name": "ipython",
    "version": 3
   },
   "file_extension": ".py",
   "mimetype": "text/x-python",
   "name": "python",
   "nbconvert_exporter": "python",
   "pygments_lexer": "ipython3",
   "version": "3.8.2"
  }
 },
 "nbformat": 4,
 "nbformat_minor": 4
}
