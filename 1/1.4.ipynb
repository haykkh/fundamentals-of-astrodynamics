{
 "cells": [
  {
   "cell_type": "markdown",
   "metadata": {},
   "source": [
    "## 1.4 Constants of the Motion"
   ]
  },
  {
   "cell_type": "markdown",
   "metadata": {},
   "source": [
    "Before attempting to solve the equation of motion for the trajectory of a satellite, we shall derive some useful information about the nature of orbital motion. If you think about the model we have (a small mass moving in a grav field whose force is always directed at the center of a larger mass) you will arrive at the conclusions we will shortly confirm with way-too-much-math.\n",
    "\n",
    "Gravitational fields are `conservative`. An object moving under the influence of gravity alone does not lose or gain mechanical energy but only exchanges one form of energy, `kinetic energy`, for another, `potential energy`.\n",
    "\n",
    "It takes a tangential component of force to change the angular momentum of a system in rotational motion about some center of rotation. Since gravitational force is always directed radially toward the center of the large mass we would expect that the angular momentum of the satellite about the center of our regerence frame (the large mass) doesn't change. \n",
    "\n",
    "Now let's prove that mumbo jumbo."
   ]
  },
  {
   "cell_type": "markdown",
   "metadata": {},
   "source": [
    "### 1.4.1 Conservation of Mechanical Energy\n",
    "\n",
    "1. Dot multiply equation [(1.3-4)](1.3.ipynb#mjx-eqn-eq%3A1.3-4) by $\\dot{\\textbf{r}}$:\n",
    "\n",
    "$$ \\dot{\\textbf{r}} \\cdot (\\ddot{\\textbf{r}} + \\frac{\\mu}{r^2} \\hat{\\textbf{r}}) = 0$$\n",
    "\n",
    "$$ \\dot{\\textbf{r}} \\cdot \\ddot{\\textbf{r}} + \\dot{\\textbf{r}} \\cdot \\frac{\\mu}{r^2}\\hat{\\textbf{r}} = 0$$\n",
    "\n",
    "2. In general $\\textbf{a} \\cdot \\dot{\\textbf{a}} = a\\dot{a}$, $\\textbf{v} = \\dot{\\textbf{r}}$, and $\\dot{\\textbf{v}} = \\ddot{\\textbf{r}}$, then:\n",
    "\n",
    "$$ \\textbf{v} \\cdot \\dot{\\textbf{v}} + \\frac{\\mu}{r^2} \\hat{\\textbf{r}} \\cdot \\dot{\\textbf{r}} = 0$$\n",
    "\n",
    "$$v \\dot{v} + \\frac{\\mu}{r^2} \\dot{r} = 0$$\n",
    "\n",
    "3. Noticing that $\\frac{d}{dt} (\\frac{v^2}{2}) = v \\dot{v}$ and $\\frac{d}{dt}(-\\frac{\\mu}{r}) = \\frac{\\mu}{r^2} \\dot{r}$:\n",
    "\n",
    "$$ \\frac{d}{dt}(\\frac{v^2}{2}) + \\frac{d}{dt}(-\\frac{\\mu}{r}) = 0$$\n",
    "\n",
    "$$ \\frac{d}{dt}(\\frac{v^2}{2} - \\frac{\\mu}{r}) = 0$$\n",
    "\n",
    "4. Add arbitrary constant to make step 3 general:\n",
    "\n",
    "$$ \\frac{d}{dt}(\\frac{v^2}{2} + c - \\frac{\\mu}{r}) = 0$$\n",
    "\n",
    "5. If the time rate of change of an expression is zero, that expression must be a constant which we will call $\\mathscr{E}$.\n",
    "\n",
    "$$ \\mathscr{E} = \\frac{v^2}{2} + (c-\\frac{\\mu}{r}) \\label{eq:1.4-1} \\tag{1.4-1}$$\n",
    "\n",
    "<p style=\"text-align: center;\">$\\mathscr{E}$: specified mechanical energy</p>\n",
    "\n",
    "\n",
    "The first term of $\\mathscr{E}$, $\\frac{v^2}{2}$, is the kinetic energy per unit mass of the satellite. To convince yourself that the second term is the potential energy per unit mass you need to equate it with the work done in moving a satellite from one point in space to another against the force of gravity.\n",
    "\n",
    "But what about $c$? The value of this constant will depend on the zero reference of potential energy. In other words, at what distance, $r$, do you want to say the potential energy is zero? This is arbitrary -- in elementary physics it's convenient to choose ground level or the surface of the earth as the zero datum for potential energy, in which an object lying at the bottom of a deep well was found to have a negative potential energy. If we wish to retain the surface of the large mass, eg. the earth, as our zero reference we would choose:\n",
    "\n",
    "$$c = \\frac{\\mu}{r_\\oplus}$$\n",
    "\n",
    "<p style=\"text-align: center;\">$r_\\oplus$: radius of the earth</p>\n",
    "\n",
    "This would be perfectly legitimate, but since $c$ is arbitrary, why not set it equal to zero? Setting $c$ equal to zero is equivalent to choosing our zero reference for potential energy at infinity. The price we pay for this simplification is that the potential energy of a satellite (now simply $-\\frac{\\mu}{r}$) will always be negative.\n",
    "\n",
    "Therefore, the `specific mechanical energy`, $\\mathscr{E}$, of a satellite which is the sum of its kinetic energy per unit mass and its potential energy per unit mass remains constant along its orbit.\n",
    "\n",
    "$$\\boxed{\\mathscr{E} = \\frac{v^2}{2} - \\frac{\\mu}{r}} \\label{eq:1.4-2} \\tag{1.4-2}$$"
   ]
  },
  {
   "cell_type": "markdown",
   "metadata": {},
   "source": [
    "### 1.4.2 Conservation of angular momentum\n",
    "\n",
    "1. Cross multiply equation [(1.3-4)](1.3.ipynb#mjx-eqn-eq%3A1.3-4) by $\\textbf{r}$:\n",
    "\n",
    "$$ \\textbf{r} \\times (\\ddot{\\textbf{r}} + \\frac{\\mu}{r^2} \\hat{\\textbf{r}}) = 0$$\n",
    "\n",
    "$$\\textbf{r} \\times \\ddot{\\textbf{r}} + \\textbf{r} \\times \\frac{\\mu}{r^2} \\hat{\\textbf{r}} = 0$$\n",
    "\n",
    "2. In general $\\textbf{a} \\times \\textbf{a} = 0$, so the second term vanishes and:\n",
    "\n",
    "$$\\textbf{r} \\times \\ddot{\\textbf{r}} = 0$$\n",
    "\n",
    "3. Noticing that $\\frac{d}{dt}(\\textbf{r} \\times \\dot{\\textbf{r}}) = \\dot{\\textbf{r}} \\times \\dot{\\textbf{r}} + \\textbf{r} \\times \\ddot{\\textbf{r}}$:\n",
    "\n",
    "$$\\frac{d}{dt}(\\textbf{r} \\times \\dot{\\textbf{r}}) = 0$$\n",
    "\n",
    "$$\\frac{d}{dt}(\\textbf{r} \\times \\textbf{v}) = 0$$ \n",
    "\n",
    "$\\textbf{r} \\times \\textbf{v}$ must be a constant of the motion. It's called $\\textbf{h}$: `specific angular momentum`.\n",
    "\n",
    "therefore we have shown that the `specific angular momentum`, $\\textbf{h}$, of a satellite remains constant along its orbit.\n",
    "\n",
    "$$\\boxed{\\textbf{h} = \\textbf{r} \\times \\textbf{v}} \\label{eq:1.4-3} \\tag{1.4-3}$$\n",
    "\n",
    "Since $\\textbf{h}$ is the vector cross product of $\\textbf{r}$ and $\\textbf{v}$ it must always be perpendicular to the plane containing $\\textbf{r}$ and $\\textbf{v}$. But $\\textbf{h}$ is a constant vector so $\\textbf{r}$ and $\\textbf{v}$ must always remain in the same plane. Therefore, we conclude that the satellite's motion must be confined to a plane fixed in space. We call this the `orbital plane`.\n",
    "\n",
    "By looking at the vectors $\\textbf{r}$ and $\\textbf{v}$ in the orbital plane and the angle between them we can derive another useful expression for the magnitude of $\\textbf{h}$"
   ]
  },
  {
   "cell_type": "markdown",
   "metadata": {},
   "source": [
    "<img src=\"../img/1.4-1.svg\" alt=\"Figure 1.4-1\" width=\"800\"/>"
   ]
  },
  {
   "cell_type": "markdown",
   "metadata": {},
   "source": [
    "No matter where a satellite is located in space it is always possible to define `up and down` and `horizontal`. \n",
    "- `Up` simply means away from the center of the earth and `down` means towards the center of the earth. \n",
    "- So the `local vertical` at the location of the satellite coincides with the direction of $\\textbf{r}$. The `local horizontal` plane must then be perpendicular to the local vertical.\n",
    "\n",
    "- We can now define the direction of the velocity vector, $\\textbf{v}$, by specifying the angle it makes with the local vertical as $\\gamma$, the `zenith angle`.\n",
    "- The angle between $\\textbf{v}$ and the local horizontal plane is called $\\phi$, the flight-path elevation angle or simply `flight-path angle`.\n",
    "\n",
    "From the definition of the cross product $(\\textbf{a} \\times \\textbf{b} = ab\\sin \\theta)$:\n",
    "\n",
    "$$h = r v \\sin \\gamma$$\n",
    "\n",
    "We will find it more convenient to express $h$ in terms of $\\phi$. Since $\\gamma$ and $\\phi$ are complementary angles: \n",
    "\n",
    "$$\\boxed{h = rv \\cos \\phi} \\label{eq:1.4-4} \\tag{1.4-4}$$\n",
    "\n",
    "The sign of $\\phi$ will be the same as that of $\\textbf{r} \\cdot \\textbf{v}$."
   ]
  },
  {
   "cell_type": "markdown",
   "metadata": {},
   "source": [
    "### Example problem\n",
    "\n",
    "In an inertial coordinate system, the position and velocity vectors of a satellite are, respectively:\n",
    "\n",
    "$$\\textbf{r} = (1.2756, 1.9134, 3.1891) \\times 10^7 m$$\n",
    "\n",
    "$$\\textbf{v} = (0.79052, 1.5810, 0) \\times 10^4 ms^{-1}$$\n",
    "\n",
    "Determine the specific mechanical energy, $\\mathscr{E}$, the specific angular momentum, $h$, and the flight-path angle, $\\phi$."
   ]
  },
  {
   "cell_type": "code",
   "execution_count": 29,
   "metadata": {},
   "outputs": [],
   "source": [
    "import numpy as np"
   ]
  },
  {
   "cell_type": "code",
   "execution_count": 24,
   "metadata": {},
   "outputs": [],
   "source": [
    "r = np.array([1.2756, 1.9134, 3.1891]) * 10**7\n",
    "v = np.array([0.79052, 1.5810, 0]) * 10**4\n",
    "\n",
    "earth_mass = 5.972 * 10**24\n",
    "G = 6.67408e-11"
   ]
  },
  {
   "cell_type": "code",
   "execution_count": 30,
   "metadata": {},
   "outputs": [],
   "source": [
    "e = (np.linalg.norm(v)**2 / 2) - (G * earth_mass) / (np.linalg.norm(r))\n",
    "h = np.cross(r, v)\n",
    "phi = np.arccos(np.linalg.norm(h) / (np.linalg.norm(r) * np.linalg.norm(v)))"
   ]
  },
  {
   "cell_type": "code",
   "execution_count": 36,
   "metadata": {},
   "outputs": [
    {
     "name": "stdout",
     "output_type": "stream",
     "text": [
      "r: 39317443.62239234 m\n",
      "v: 17676.20680576011 m/s\n",
      "Specific mechanical energy: 146086758.662837 J/kg\n",
      "Specific angular momentum: [-5.04196710e+11  2.52104733e+11  5.04142632e+10] m^2/s\n",
      "Flight-path angle: 0.6191826722411752 rad\n"
     ]
    }
   ],
   "source": [
    "print(f'r: {np.linalg.norm(r)} m')\n",
    "print(f'v: {np.linalg.norm(v)} m/s')\n",
    "print(f'Specific mechanical energy: {e} J/kg')\n",
    "print(f'Specific angular momentum: {h} m^2/s')\n",
    "print(f'Flight-path angle: {phi} rad')"
   ]
  }
 ],
 "metadata": {
  "kernelspec": {
   "display_name": "Python 3.8.2 64-bit ('fundamentals-of-astrodynamics': conda)",
   "language": "python",
   "name": "python38264bitfundamentalsofastrodynamicsconda0c0c3b764d05496086f35ca919010813"
  },
  "language_info": {
   "codemirror_mode": {
    "name": "ipython",
    "version": 3
   },
   "file_extension": ".py",
   "mimetype": "text/x-python",
   "name": "python",
   "nbconvert_exporter": "python",
   "pygments_lexer": "ipython3",
   "version": "3.8.2"
  }
 },
 "nbformat": 4,
 "nbformat_minor": 4
}
